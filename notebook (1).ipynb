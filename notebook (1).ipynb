{
 "cells": [
  {
   "cell_type": "code",
   "execution_count": 1,
   "metadata": {},
   "outputs": [],
   "source": [
    "import pandas as pd\n",
    "import numpy as np\n",
    "from tqdm import tqdm\n",
    "import json"
   ]
  },
  {
   "cell_type": "code",
   "execution_count": 2,
   "metadata": {},
   "outputs": [],
   "source": [
    "import requests as rq\n",
    "import time"
   ]
  },
  {
   "cell_type": "code",
   "execution_count": 7,
   "metadata": {},
   "outputs": [],
   "source": [
    "pkgs_to_query = pd.read_csv('./pkgs_to_parse.csv',index_col=0)"
   ]
  },
  {
   "cell_type": "markdown",
   "metadata": {},
   "source": [
    "## Quering 120 packages per request"
   ]
  },
  {
   "cell_type": "code",
   "execution_count": 8,
   "metadata": {},
   "outputs": [
    {
     "name": "stderr",
     "output_type": "stream",
     "text": [
      "100%|███████████████████████████████████████████████████████████████████████████| 4443/4443 [40:33:11<00:00, 32.86s/it]\n"
     ]
    }
   ],
   "source": [
    "fname = './rubygems_pkgs.json'\n",
    "prefix = 'pkg:gem/' #'pkg:pypi' - more options are available here: https://github.com/package-url/purl-spec\n",
    "\n",
    "result = []\n",
    "step=120\n",
    "pkg = np.full(fill_value=prefix,shape=1,dtype=object)\n",
    "at = np.full(fill_value='@',shape=1,dtype=object)\n",
    "\n",
    "counter = 0\n",
    "\n",
    "for i in tqdm(range(0,len(pkgs_to_query.index),step)):\n",
    "           \n",
    "    # changing a step for the last request    \n",
    "    if i+step > len(pkgs_to_query.index):\n",
    "        step = len(pkgs_to_query.index)-i\n",
    "    \n",
    "    list_of_pkgs = np.array(pkg+np.array(pkgs_to_query.index.tolist()[i:i+step])+at+np.array(pkgs_to_query.values[i:i+step].reshape(-1,)),dtype=str).tolist()\n",
    "\n",
    "    headers = {'content-type': \"application/json\",'accept':\"application/json\"}\n",
    "    \n",
    "    data ={'coordinates':list_of_pkgs}\n",
    "    data_json = json.dumps(data)\n",
    "    \n",
    "    req = rq.post(url=\"https://ossindex.sonatype.org/api/v3/component-report\",data=data_json,headers=headers)\n",
    "\n",
    "    \n",
    "    # if the status code is 200 - everything went great, otherwise - process the errors\n",
    "    \n",
    "    if req.status_code == 200:\n",
    "        result.extend(req.json())\n",
    "    \n",
    "    #processing the errors\n",
    "    \n",
    "    if req.status_code == 404 or req.status_code == 400:\n",
    "        not_found.append(key)\n",
    "    if req.status_code == 429:\n",
    "        print('Too many queries')\n",
    "        while(req.status_code == 429):\n",
    "            time.sleep(60)\n",
    "            req = rq.post(url=\"https://ossindex.sonatype.org/api/v3/component-report\",data=data_json,headers=headers)\n",
    "        if req.status_code == 200:\n",
    "            result.extend(req.json())\n",
    "        if req.status_code == 404 or req.status_code == 400:\n",
    "            not_found.extend(list_of_pkgs)\n",
    "    \n",
    "    # if the status code is unknown - there is a problem\n",
    "    \n",
    "    if req.status_code == 400 and req.status_code == 200 and req.status_code == 429 and req.status_code == 404:\n",
    "        print('Something went wrong: ',req.status_code)\n",
    "    \n",
    "    time.sleep(31)\n",
    "    counter += 1\n",
    "    \n",
    "    #log the result each 10 steps\n",
    "    \n",
    "    if counter == 10:\n",
    "        with open(fname, 'w') as fout:\n",
    "            json.dump(result, fout)\n",
    "        counter = 0"
   ]
  },
  {
   "cell_type": "code",
   "execution_count": null,
   "metadata": {},
   "outputs": [],
   "source": []
  }
 ],
 "metadata": {
  "kernelspec": {
   "display_name": "Python 3",
   "language": "python",
   "name": "python3"
  },
  "language_info": {
   "codemirror_mode": {
    "name": "ipython",
    "version": 3
   },
   "file_extension": ".py",
   "mimetype": "text/x-python",
   "name": "python",
   "nbconvert_exporter": "python",
   "pygments_lexer": "ipython3",
   "version": "3.6.3"
  }
 },
 "nbformat": 4,
 "nbformat_minor": 2
}
